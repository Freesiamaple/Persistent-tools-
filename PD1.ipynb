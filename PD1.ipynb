{
 "cells": [
  {
   "cell_type": "code",
   "execution_count": 36,
   "metadata": {},
   "outputs": [],
   "source": [
    "import numpy as np\n",
    "import matplotlib.pyplot as plt\n",
    "import matplotlib.colors\n",
    "import matplotlib.cm as cm"
   ]
  },
  {
   "cell_type": "code",
   "execution_count": 37,
   "metadata": {},
   "outputs": [],
   "source": [
    "name=\"Fetest\""
   ]
  },
  {
   "cell_type": "code",
   "execution_count": 38,
   "metadata": {},
   "outputs": [],
   "source": [
    "xlim=[0,80]\n",
    "ylim=[0,80]\n",
    "width=10"
   ]
  },
  {
   "cell_type": "code",
   "execution_count": 39,
   "metadata": {},
   "outputs": [],
   "source": [
    "DATA_DIR = \"../data/model data/\"\n",
    "CACHE_DIR = \"../data/cache/\"\n",
    "IMAGE_DIR = \"../data/images/\"\n",
    "INVERSE_DIR = \"../data/Inverse analysis/\"\n",
    "EXCEL_DIR = \"../data/excel/\"\n",
    "PKL_DIR = \"../data/pkl/\""
   ]
  },
  {
   "cell_type": "code",
   "execution_count": 40,
   "metadata": {},
   "outputs": [],
   "source": [
    "plt.rcParams[\"font.family\"] = \"Arial\"   # 使用するフォント\n",
    "plt.rcParams[\"font.size\"] = 14"
   ]
  },
  {
   "cell_type": "code",
   "execution_count": 41,
   "metadata": {},
   "outputs": [],
   "source": [
    "Birth=open(f'{CACHE_DIR}{name}_b_pd1.txt','r')\n",
    "Death=open(f'{CACHE_DIR}{name}_d_pd1.txt','r')\n",
    "B,D=[],[]\n",
    "while True:\n",
    "    B_datalist = Birth.readline()\n",
    "    if \"#\" in B_datalist:\n",
    "        continue\n",
    "    if B_datalist=='':\n",
    "        break\n",
    "    A=float(list(map(str,B_datalist.split()))[0])\n",
    "    B.append(A)\n",
    "Birth.close()\n",
    "while True:\n",
    "    D_datalist = Death.readline()\n",
    "    if \"#\" in D_datalist:\n",
    "        continue\n",
    "    if D_datalist=='':\n",
    "        break\n",
    "    A=float(list(map(str,D_datalist.split()))[0])\n",
    "    D.append(A)\n",
    "Death.close()\n",
    "L=len(B)\n",
    "l=len(D)\n",
    "if L!=l:\n",
    "    print(\"Num error\")\n",
    "BD = open(f'{CACHE_DIR}{name}_birth_death_pair.txt', 'w')\n",
    "for i in range(0,L):\n",
    "    BD.write(str(B[i]))\n",
    "    BD.write(\" \")\n",
    "    BD.write(str(D[i]))\n",
    "    BD.write('\\n')\n",
    "BD.close()"
   ]
  },
  {
   "cell_type": "code",
   "execution_count": 42,
   "metadata": {},
   "outputs": [
    {
     "name": "stderr",
     "output_type": "stream",
     "text": [
      "C:\\Users\\vvho\\AppData\\Local\\Programs\\Python\\Python37\\lib\\site-packages\\ipykernel_launcher.py:6: MatplotlibDeprecationWarning: Passing parameters norm and vmin/vmax simultaneously is deprecated since 3.3 and will become an error two minor releases later. Please pass vmin/vmax directly to the norm when creating it.\n",
      "  \n"
     ]
    },
    {
     "data": {
      "image/png": "[encoded data removed]",
      "text/plain": [
       "<Figure size 432x288 with 2 Axes>"
      ]
     },
     "metadata": {
      "needs_background": "light"
     },
     "output_type": "display_data"
    }
   ],
   "source": [
    "#グラフ\n",
    "x=B\n",
    "y=D\n",
    "fig = plt.figure()\n",
    "ax = fig.add_subplot(111)\n",
    "H = ax.hist2d(x,y, bins=[np.linspace(xlim[0],xlim[1],width),np.linspace(ylim[0],ylim[1],width)], norm=matplotlib.colors.LogNorm(), cmap=cm.rainbow,vmin=10**0,vmax=10**2)\n",
    "\n",
    "plt.xticks([i for i in range(xlim[0],xlim[1]+width,width)],fontsize=8)\n",
    "plt.yticks([i for i in range(ylim[0],ylim[1]+width,width)],fontsize=8)\n",
    "plt.minorticks_on()\n",
    "plt.grid(which=\"major\", color=\"gray\", linestyle=\"solid\",linewidth=0.25)\n",
    "plt.axvline(x=0, ymin=-10, ymax=120,linewidth=0.5,c='black')\n",
    "plt.axhline(y=0, xmin=-10, xmax=120,linewidth=0.5,c='black')\n",
    "plt.plot(xlim, ylim,color=\"black\",linewidth=0.5)\n",
    "fig.colorbar(H[3],ax=ax).set_label('Number Density(-)')\n",
    "ax.set_xlabel('Birth (μm)')\n",
    "ax.set_ylabel('Death (μm)')\n",
    "aspect = (ax.get_xlim()[1] - ax.get_xlim()[0]) / (ax.get_ylim()[1] - ax.get_ylim()[0])                     \n",
    "ax.set_aspect(aspect)\n",
    "plt.savefig(f'{IMAGE_DIR}{name}_pd1.png',dpi=500)\n",
    "plt.show()\n"
   ]
  }
 ],
 "metadata": {
  "interpreter": {
   "hash": "ee8bf727593f0b0ac99df45e15a759a4d1200916e8820a1a03ae9006b436a83c"
  },
  "kernelspec": {
   "display_name": "Python 3.7.9 64-bit",
   "language": "python",
   "name": "python3"
  },
  "language_info": {
   "codemirror_mode": {
    "name": "ipython",
    "version": 3
   },
   "file_extension": ".py",
   "mimetype": "text/x-python",
   "name": "python",
   "nbconvert_exporter": "python",
   "pygments_lexer": "ipython3",
   "version": "3.7.9"
  },
  "orig_nbformat": 4
 },
 "nbformat": 4,
 "nbformat_minor": 2
}
